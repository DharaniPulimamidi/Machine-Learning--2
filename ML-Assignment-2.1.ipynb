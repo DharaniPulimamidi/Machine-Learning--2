{
 "cells": [
  {
   "cell_type": "code",
   "execution_count": 3,
   "id": "64106f18",
   "metadata": {},
   "outputs": [
    {
     "name": "stdout",
     "output_type": "stream",
     "text": [
      "* \r\n",
      "* * \r\n",
      "* * * \r\n",
      "* * * * \r\n",
      "* * * * * \r\n",
      "* * * * \r\n",
      "* * * \r\n",
      "* * \r\n",
      "* \r\n",
      "\r\n"
     ]
    }
   ],
   "source": [
    "#Number of rows\n",
    "rows = 5\n",
    "for i in range(0,rows):\n",
    "# Nested loop for each column\n",
    "    for j in range(0,i+1):\n",
    "        print(\"*\",end= ' ')\n",
    "#Print Star\n",
    "    print(\"\\r\")\n",
    "    \n",
    "for i in range(rows,0, -1):\n",
    "#Nested loop for each column\n",
    "    for j in range(0,i - 1):\n",
    "        print(\"*\",end=' ')\n",
    "#Print Star\n",
    "    print(\"\\r\")"
   ]
  },
  {
   "cell_type": "code",
   "execution_count": null,
   "id": "071f8af2",
   "metadata": {},
   "outputs": [],
   "source": []
  }
 ],
 "metadata": {
  "kernelspec": {
   "display_name": "Python 3 (ipykernel)",
   "language": "python",
   "name": "python3"
  },
  "language_info": {
   "codemirror_mode": {
    "name": "ipython",
    "version": 3
   },
   "file_extension": ".py",
   "mimetype": "text/x-python",
   "name": "python",
   "nbconvert_exporter": "python",
   "pygments_lexer": "ipython3",
   "version": "3.11.1"
  }
 },
 "nbformat": 4,
 "nbformat_minor": 5
}
