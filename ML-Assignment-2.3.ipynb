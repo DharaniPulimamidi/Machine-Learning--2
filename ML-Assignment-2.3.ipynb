{
 "cells": [
  {
   "cell_type": "code",
   "execution_count": 5,
   "id": "ae42541b",
   "metadata": {},
   "outputs": [
    {
     "name": "stdout",
     "output_type": "stream",
     "text": [
      "Elements: [23, 'Python', 23.98]\n",
      "Types: [<class 'int'>, <class 'str'>, <class 'float'>]\n"
     ]
    }
   ],
   "source": [
    "#Given elements\n",
    "x = [23, 'Python', 23.98]\n",
    "#Initialize a list to store the elements\n",
    "type_list = []\n",
    "#Iterate through each element in x\n",
    "for item in x:\n",
    "#Append type to the type list\n",
    "    type_list.append(type(item))\n",
    "#Print original list x\n",
    "print(\"Elements:\",x)\n",
    "#Print the list of types\n",
    "print(\"Types:\",type_list)"
   ]
  },
  {
   "cell_type": "code",
   "execution_count": null,
   "id": "63d4154c",
   "metadata": {},
   "outputs": [],
   "source": []
  }
 ],
 "metadata": {
  "kernelspec": {
   "display_name": "Python 3 (ipykernel)",
   "language": "python",
   "name": "python3"
  },
  "language_info": {
   "codemirror_mode": {
    "name": "ipython",
    "version": 3
   },
   "file_extension": ".py",
   "mimetype": "text/x-python",
   "name": "python",
   "nbconvert_exporter": "python",
   "pygments_lexer": "ipython3",
   "version": "3.11.1"
  }
 },
 "nbformat": 4,
 "nbformat_minor": 5
}
