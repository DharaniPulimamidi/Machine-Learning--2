{
 "cells": [
  {
   "cell_type": "code",
   "execution_count": 2,
   "id": "81c92be7",
   "metadata": {},
   "outputs": [
    {
     "name": "stdout",
     "output_type": "stream",
     "text": [
      "Number of Upper-case characters: 3\n",
      "Number of Lower-case characters: 12\n"
     ]
    }
   ],
   "source": [
    "def case_count(string):\n",
    "    upper_count = 0\n",
    "    lower_count = 0\n",
    "#Loop through the string\n",
    "    for char in string:\n",
    "#Check if the character is in upper case\n",
    "        if char.isupper():\n",
    "            upper_count += 1\n",
    "#Check if the character is in lower case\n",
    "        elif char.islower():\n",
    "            lower_count += 1\n",
    "#Return the number of upper-case and lower-case letters            \n",
    "    return (upper_count, lower_count)\n",
    "#Given input string\n",
    "string = 'The quick Brow Fox'\n",
    "#Call the function\n",
    "upper_count, lower_count = case_count(string)\n",
    "#Print the results\n",
    "print(\"Number of Upper-case characters:\",upper_count)\n",
    "print(\"Number of Lower-case characters:\",lower_count)\n"
   ]
  },
  {
   "cell_type": "code",
   "execution_count": null,
   "id": "d6bb17da",
   "metadata": {},
   "outputs": [],
   "source": []
  }
 ],
 "metadata": {
  "kernelspec": {
   "display_name": "Python 3 (ipykernel)",
   "language": "python",
   "name": "python3"
  },
  "language_info": {
   "codemirror_mode": {
    "name": "ipython",
    "version": 3
   },
   "file_extension": ".py",
   "mimetype": "text/x-python",
   "name": "python",
   "nbconvert_exporter": "python",
   "pygments_lexer": "ipython3",
   "version": "3.11.1"
  }
 },
 "nbformat": 4,
 "nbformat_minor": 5
}
